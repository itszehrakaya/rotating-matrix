{
 "cells": [
  {
   "cell_type": "code",
   "execution_count": 1,
   "metadata": {},
   "outputs": [
    {
     "data": {
      "text/plain": [
       "array([[ 0,  1,  2,  3,  4,  5,  6],\n",
       "       [ 7,  8,  9, 10, 11, 12, 13],\n",
       "       [14, 15, 16, 17, 18, 19, 20],\n",
       "       [21, 22, 23, 24, 25, 26, 27],\n",
       "       [28, 29, 30, 31, 32, 33, 34]])"
      ]
     },
     "execution_count": 1,
     "metadata": {},
     "output_type": "execute_result"
    }
   ],
   "source": [
    "import numpy as np\n",
    "\n",
    "n = int(input(\"number of rows:\"))\n",
    "m = int(input(\"number of colmuns:\"))\n",
    "\n",
    "#create a matrix with n rows and m columns\n",
    "matrix = np.arange(n*m).reshape(n, m)\n",
    "matrix"
   ]
  },
  {
   "cell_type": "code",
   "execution_count": 2,
   "metadata": {},
   "outputs": [
    {
     "data": {
      "text/plain": [
       "array([[ 0,  7, 14, 21, 28],\n",
       "       [ 1,  8, 15, 22, 29],\n",
       "       [ 2,  9, 16, 23, 30],\n",
       "       [ 3, 10, 17, 24, 31],\n",
       "       [ 4, 11, 18, 25, 32],\n",
       "       [ 5, 12, 19, 26, 33],\n",
       "       [ 6, 13, 20, 27, 34]])"
      ]
     },
     "execution_count": 2,
     "metadata": {},
     "output_type": "execute_result"
    }
   ],
   "source": [
    "# transpose the matrix\n",
    "matrix= np.transpose(matrix)\n",
    "matrix"
   ]
  },
  {
   "cell_type": "code",
   "execution_count": 3,
   "metadata": {},
   "outputs": [
    {
     "data": {
      "text/plain": [
       "array([[28, 21, 14,  7,  0],\n",
       "       [29, 22, 15,  8,  1],\n",
       "       [30, 23, 16,  9,  2],\n",
       "       [31, 24, 17, 10,  3],\n",
       "       [32, 25, 18, 11,  4],\n",
       "       [33, 26, 19, 12,  5],\n",
       "       [34, 27, 20, 13,  6]])"
      ]
     },
     "execution_count": 3,
     "metadata": {},
     "output_type": "execute_result"
    }
   ],
   "source": [
    "# reverse the matrix\n",
    "matrix = matrix[:, ::-1]\n",
    "matrix"
   ]
  }
 ],
 "metadata": {
  "kernelspec": {
   "display_name": "base",
   "language": "python",
   "name": "python3"
  },
  "language_info": {
   "codemirror_mode": {
    "name": "ipython",
    "version": 3
   },
   "file_extension": ".py",
   "mimetype": "text/x-python",
   "name": "python",
   "nbconvert_exporter": "python",
   "pygments_lexer": "ipython3",
   "version": "3.9.7"
  },
  "orig_nbformat": 4
 },
 "nbformat": 4,
 "nbformat_minor": 2
}
